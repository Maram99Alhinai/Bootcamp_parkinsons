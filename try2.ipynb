{
 "cells": [
  {
   "cell_type": "code",
   "execution_count": 105,
   "metadata": {},
   "outputs": [
    {
     "name": "stderr",
     "output_type": "stream",
     "text": [
      "C:\\Users\\Taqana\\AppData\\Local\\Temp\\ipykernel_1188\\3012124106.py:8: DeprecationWarning: Please use `distance_transform_edt` from the `scipy.ndimage` namespace, the `scipy.ndimage.morphology` namespace is deprecated.\n",
      "  from scipy.ndimage.morphology import distance_transform_edt\n"
     ]
    }
   ],
   "source": [
    "import cv2\n",
    "import numpy as np\n",
    "from skimage.morphology import closing, disk\n",
    "from skimage.measure import label, regionprops\n",
    "from skimage.filters import threshold_otsu\n",
    "from skimage.draw import polygon\n",
    "from skimage.feature import canny\n",
    "from scipy.ndimage.morphology import distance_transform_edt\n",
    "from skimage.transform import resize\n",
    "import pandas as pd\n",
    "from utils.process_images import *\n",
    "from utils.process_data import *"
   ]
  },
  {
   "cell_type": "code",
   "execution_count": 5,
   "metadata": {},
   "outputs": [],
   "source": [
    "def process_single_image(image_path):\n",
    "    # Load and preprocess the image\n",
    "    img = cv2.imread(image_path, cv2.IMREAD_GRAYSCALE)\n",
    "    thresh_img = cv2.threshold(img, 0, 255, cv2.THRESH_BINARY + cv2.THRESH_OTSU)[1]\n",
    "    clean_img = closing(thresh_img > 0, disk(1))\n",
    "\n",
    "    # Calculate stroke thickness\n",
    "    thickness = stroke_thickness(clean_img)\n",
    "    mean_thickness = np.mean(thickness)\n",
    "    std_thickness = np.std(thickness)\n",
    "\n",
    "    # Calculate number of pixels, end points, and intersection points\n",
    "    num_pixels = np.sum(clean_img)\n",
    "    num_ep = number_of_end_points(clean_img, k_nn)\n",
    "    num_inters = number_of_intersection_points(clean_img, k_nn)\n",
    "\n",
    "    # Calculate interactions between features\n",
    "    interactions = {\n",
    "        'mean_thickness_std_thickness': mean_thickness * std_thickness,\n",
    "        'mean_thickness_num_pixels': mean_thickness * num_pixels,\n",
    "        'mean_thickness_num_ep': mean_thickness * num_ep,\n",
    "        'mean_thickness_num_inters': mean_thickness * num_inters,\n",
    "        'std_thickness_num_pixels': std_thickness * num_pixels,\n",
    "        'std_thickness_num_ep': std_thickness * num_ep,\n",
    "        'std_thickness_num_inters': std_thickness * num_inters,\n",
    "        'num_pixels_num_ep': num_pixels * num_ep,\n",
    "        'num_pixels_num_inters': num_pixels * num_inters,\n",
    "        'num_ep_num_inters': num_ep * num_inters\n",
    "    }\n",
    "\n",
    "    # Create a DataFrame with the processed features\n",
    "    feature_data = {\n",
    "        'mean_thickness': mean_thickness,\n",
    "        'std_thickness': std_thickness,\n",
    "        'num_pixels': num_pixels,\n",
    "        'num_ep': num_ep,\n",
    "        'num_inters': num_inters,\n",
    "        **interactions  # Include interactions in the DataFrame\n",
    "    }\n",
    "\n",
    "    df = pd.DataFrame([feature_data])\n",
    "\n",
    "    return df\n",
    "\n"
   ]
  },
  {
   "cell_type": "code",
   "execution_count": 33,
   "metadata": {},
   "outputs": [
    {
     "data": {
      "text/html": [
       "<div>\n",
       "<style scoped>\n",
       "    .dataframe tbody tr th:only-of-type {\n",
       "        vertical-align: middle;\n",
       "    }\n",
       "\n",
       "    .dataframe tbody tr th {\n",
       "        vertical-align: top;\n",
       "    }\n",
       "\n",
       "    .dataframe thead th {\n",
       "        text-align: right;\n",
       "    }\n",
       "</style>\n",
       "<table border=\"1\" class=\"dataframe\">\n",
       "  <thead>\n",
       "    <tr style=\"text-align: right;\">\n",
       "      <th></th>\n",
       "      <th>mean_thickness</th>\n",
       "      <th>std_thickness</th>\n",
       "      <th>num_pixels</th>\n",
       "      <th>num_ep</th>\n",
       "      <th>num_inters</th>\n",
       "      <th>mean_thickness_std_thickness</th>\n",
       "      <th>mean_thickness_num_pixels</th>\n",
       "      <th>mean_thickness_num_ep</th>\n",
       "      <th>mean_thickness_num_inters</th>\n",
       "      <th>std_thickness_num_pixels</th>\n",
       "      <th>std_thickness_num_ep</th>\n",
       "      <th>std_thickness_num_inters</th>\n",
       "      <th>num_pixels_num_ep</th>\n",
       "      <th>num_pixels_num_inters</th>\n",
       "      <th>num_ep_num_inters</th>\n",
       "    </tr>\n",
       "  </thead>\n",
       "  <tbody>\n",
       "    <tr>\n",
       "      <th>0</th>\n",
       "      <td>18.698157</td>\n",
       "      <td>13.397426</td>\n",
       "      <td>111036</td>\n",
       "      <td>4</td>\n",
       "      <td>126</td>\n",
       "      <td>250.507171</td>\n",
       "      <td>2.076169e+06</td>\n",
       "      <td>74.792629</td>\n",
       "      <td>2355.967808</td>\n",
       "      <td>1.487597e+06</td>\n",
       "      <td>53.589703</td>\n",
       "      <td>1688.075629</td>\n",
       "      <td>444144</td>\n",
       "      <td>13990536</td>\n",
       "      <td>504</td>\n",
       "    </tr>\n",
       "  </tbody>\n",
       "</table>\n",
       "</div>"
      ],
      "text/plain": [
       "   mean_thickness  std_thickness  num_pixels  num_ep  num_inters  \\\n",
       "0       18.698157      13.397426      111036       4         126   \n",
       "\n",
       "   mean_thickness_std_thickness  mean_thickness_num_pixels  \\\n",
       "0                    250.507171               2.076169e+06   \n",
       "\n",
       "   mean_thickness_num_ep  mean_thickness_num_inters  std_thickness_num_pixels  \\\n",
       "0              74.792629                2355.967808              1.487597e+06   \n",
       "\n",
       "   std_thickness_num_ep  std_thickness_num_inters  num_pixels_num_ep  \\\n",
       "0             53.589703               1688.075629             444144   \n",
       "\n",
       "   num_pixels_num_inters  num_ep_num_inters  \n",
       "0               13990536                504  "
      ]
     },
     "execution_count": 33,
     "metadata": {},
     "output_type": "execute_result"
    }
   ],
   "source": [
    "image_path = 'drawings\\\\wave\\\\training\\\\healthy\\\\V55HO02.png'  # Replace with the path to your single image\n",
    "processed_df = process_single_image(image_path)\n",
    "processed_df"
   ]
  },
  {
   "cell_type": "code",
   "execution_count": 1,
   "metadata": {},
   "outputs": [],
   "source": [
    "import pickle\n",
    "\n",
    "# Load the RF model\n",
    "with open('rf_model.pickle', 'rb') as model_file:\n",
    "    loaded_rf_model = pickle.load(model_file)\n",
    "\n"
   ]
  },
  {
   "cell_type": "code",
   "execution_count": 34,
   "metadata": {},
   "outputs": [
    {
     "name": "stdout",
     "output_type": "stream",
     "text": [
      "[1] [1] [[0.21 0.79]] [0.79]\n"
     ]
    },
    {
     "name": "stderr",
     "output_type": "stream",
     "text": [
      "c:\\Users\\Taqana\\AppData\\Local\\Programs\\Python\\Python311\\Lib\\site-packages\\sklearn\\base.py:464: UserWarning: X does not have valid feature names, but RandomForestClassifier was fitted with feature names\n",
      "  warnings.warn(\n",
      "c:\\Users\\Taqana\\AppData\\Local\\Programs\\Python\\Python311\\Lib\\site-packages\\sklearn\\base.py:464: UserWarning: X does not have valid feature names, but RandomForestClassifier was fitted with feature names\n",
      "  warnings.warn(\n",
      "c:\\Users\\Taqana\\AppData\\Local\\Programs\\Python\\Python311\\Lib\\site-packages\\sklearn\\base.py:464: UserWarning: X does not have valid feature names, but RandomForestClassifier was fitted with feature names\n",
      "  warnings.warn(\n"
     ]
    }
   ],
   "source": [
    "# Make predictions using the loaded model\n",
    "\n",
    "predictions = loaded_rf_model.predict(processed_df.values )\n",
    "rf_preds = loaded_rf_model.predict(processed_df.values)\n",
    "rf_probs = loaded_rf_model.predict_proba(processed_df.values)\n",
    "rf_probs_max = np.array([max(x, y) for x, y in rf_probs]).ravel()\n",
    "\n",
    "# The 'predictions' variable now contains the predicted labels for each row in processed_df\n",
    "print(predictions,rf_preds,rf_probs ,rf_probs_max)\n",
    "#predictions,rf_preds,rf_probs ,rf_probs_max"
   ]
  },
  {
   "cell_type": "code",
   "execution_count": 28,
   "metadata": {},
   "outputs": [
    {
     "name": "stdout",
     "output_type": "stream",
     "text": [
      "Image width: 512px\n",
      "Image height: 265px\n"
     ]
    }
   ],
   "source": [
    "from PIL import Image\n",
    "def get_image_size(image_path):\n",
    "    try:\n",
    "        img = Image.open(image_path)\n",
    "        width, height = img.size\n",
    "        return width, height\n",
    "    except IOError as e:\n",
    "        print(f\"Unable to open image: {e}\")\n",
    "        return None, None\n",
    "\n",
    " # Replace with the actual path to your image\n",
    "width, height = get_image_size('drawings\\\\wave\\\\training\\\\healthy\\\\V01HO02.png')\n",
    "\n",
    "if width and height:\n",
    "    print(f\"Image width: {width}px\")\n",
    "    print(f\"Image height: {height}px\")"
   ]
  },
  {
   "cell_type": "code",
   "execution_count": 31,
   "metadata": {},
   "outputs": [
    {
     "name": "stdout",
     "output_type": "stream",
     "text": [
      "Image width: 512px\n",
      "Image height: 263px\n"
     ]
    }
   ],
   "source": [
    "from PIL import Image\n",
    "def get_image_size(image_path):\n",
    "    try:\n",
    "        img = Image.open(image_path)\n",
    "        width, height = img.size\n",
    "        return width, height\n",
    "    except IOError as e:\n",
    "        print(f\"Unable to open image: {e}\")\n",
    "        return None, None\n",
    "\n",
    " # Replace with the actual path to your image\n",
    "width, height = get_image_size('images\\V03PO01.png')\n",
    "\n",
    "if width and height:\n",
    "    print(f\"Image width: {width}px\")\n",
    "    print(f\"Image height: {height}px\")"
   ]
  },
  {
   "cell_type": "markdown",
   "metadata": {},
   "source": [
    "## Last"
   ]
  },
  {
   "cell_type": "code",
   "execution_count": 110,
   "metadata": {},
   "outputs": [],
   "source": [
    "import joblib\n",
    "from utils.process_images import *  # Import your image processing functions\n",
    "from utils.process_data import *  # Import your data processing functions"
   ]
  },
  {
   "cell_type": "code",
   "execution_count": 111,
   "metadata": {},
   "outputs": [],
   "source": [
    "# Step 1: Load the saved model\n",
    "model_filename = 'rf_model_wave.joblib'  # Replace with the correct filename\n",
    "loaded_model = joblib.load(model_filename)\n"
   ]
  },
  {
   "cell_type": "code",
   "execution_count": 117,
   "metadata": {},
   "outputs": [],
   "source": [
    "# Step 2: Process a new image to create the feature NumPy arraydrawingsdrawings\n",
    "new_image_path = 'drawings\\\\wave\\\\training\\\\parkinson\\\\V04PO02.png'  # Replace with the path to your new image\n",
    "new_image = read_and_thresh(new_image_path, resize=False)  # Process the new image as needed\n",
    "# Define a function for processing a new image and making predictions\n",
    "def process_new_image(new_image_path):\n",
    "    new_image = read_and_thresh(new_image_path, resize=False)\n",
    "\n",
    "    # Compute the same interaction features as during training\n",
    "    mean_thickness = np.mean(stroke_thickness(closing(label_sort(new_image) > 0, disk(1))))\n",
    "    std_thickness = np.std(stroke_thickness(closing(label_sort(new_image) > 0, disk(1))))\n",
    "    num_pixels = sum_pixels(skeleton_drawing(new_image))\n",
    "    num_ep = number_of_end_points(new_image, k_nn)\n",
    "    num_inters = number_of_intersection_points(new_image, k_nn)\n",
    "\n",
    "    # Create a feature array matching the training data\n",
    "    new_features = np.array([\n",
    "        mean_thickness, std_thickness, num_pixels, num_ep, num_inters,\n",
    "        mean_thickness * std_thickness, mean_thickness * num_pixels, mean_thickness * num_ep, mean_thickness * num_inters,\n",
    "        std_thickness * num_pixels, std_thickness * num_ep, std_thickness * num_inters,\n",
    "        num_pixels * num_ep, num_pixels * num_inters, num_ep * num_inters\n",
    "    ]).reshape(1, -1)\n",
    "\n",
    "    return new_features\n",
    "new_features = process_new_image(new_image_path)"
   ]
  },
  {
   "cell_type": "code",
   "execution_count": 118,
   "metadata": {},
   "outputs": [
    {
     "name": "stdout",
     "output_type": "stream",
     "text": [
      "parkinson\n"
     ]
    },
    {
     "name": "stderr",
     "output_type": "stream",
     "text": [
      "c:\\Users\\Taqana\\AppData\\Local\\Programs\\Python\\Python311\\Lib\\site-packages\\sklearn\\base.py:464: UserWarning: X does not have valid feature names, but RandomForestClassifier was fitted with feature names\n",
      "  warnings.warn(\n"
     ]
    }
   ],
   "source": [
    "# Step 3: Use the loaded model to make predictions\n",
    "predicted_probabilities = loaded_model.predict_proba(new_features)\n",
    "\n",
    "if predicted_probabilities[0][1] < 0.87:\n",
    "    print('healthy')\n",
    "else :\n",
    "    print('parkinson')\n"
   ]
  }
 ],
 "metadata": {
  "kernelspec": {
   "display_name": "Python 3",
   "language": "python",
   "name": "python3"
  },
  "language_info": {
   "codemirror_mode": {
    "name": "ipython",
    "version": 3
   },
   "file_extension": ".py",
   "mimetype": "text/x-python",
   "name": "python",
   "nbconvert_exporter": "python",
   "pygments_lexer": "ipython3",
   "version": "3.11.4"
  },
  "orig_nbformat": 4
 },
 "nbformat": 4,
 "nbformat_minor": 2
}
