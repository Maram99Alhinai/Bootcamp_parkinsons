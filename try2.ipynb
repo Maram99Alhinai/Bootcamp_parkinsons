{
 "cells": [
  {
   "cell_type": "code",
   "execution_count": 54,
   "metadata": {},
   "outputs": [
    {
     "name": "stderr",
     "output_type": "stream",
     "text": [
      "C:\\Users\\Taqana\\AppData\\Local\\Temp\\ipykernel_11380\\3012124106.py:8: DeprecationWarning: Please use `distance_transform_edt` from the `scipy.ndimage` namespace, the `scipy.ndimage.morphology` namespace is deprecated.\n",
      "  from scipy.ndimage.morphology import distance_transform_edt\n"
     ]
    }
   ],
   "source": [
    "import cv2\n",
    "import numpy as np\n",
    "from skimage.morphology import closing, disk\n",
    "from skimage.measure import label, regionprops\n",
    "from skimage.filters import threshold_otsu\n",
    "from skimage.draw import polygon\n",
    "from skimage.feature import canny\n",
    "from scipy.ndimage.morphology import distance_transform_edt\n",
    "from skimage.transform import resize\n",
    "import pandas as pd\n",
    "from utils.process_images import *\n",
    "from utils.process_data import *"
   ]
  },
  {
   "cell_type": "code",
   "execution_count": 55,
   "metadata": {},
   "outputs": [],
   "source": [
    "def process_single_image(image_path):\n",
    "    # Load and preprocess the image\n",
    "    img = cv2.imread(image_path, cv2.IMREAD_GRAYSCALE)\n",
    "    thresh_img = cv2.threshold(img, 0, 255, cv2.THRESH_BINARY + cv2.THRESH_OTSU)[1]\n",
    "    clean_img = closing(thresh_img > 0, disk(1))\n",
    "\n",
    "    # Calculate stroke thickness\n",
    "    thickness = stroke_thickness(clean_img)\n",
    "    mean_thickness = np.mean(thickness)\n",
    "    std_thickness = np.std(thickness)\n",
    "\n",
    "    # Calculate number of pixels, end points, and intersection points\n",
    "    num_pixels = np.sum(clean_img)\n",
    "    num_ep = number_of_end_points(clean_img, k_nn)\n",
    "    num_inters = number_of_intersection_points(clean_img, k_nn)\n",
    "\n",
    "    # Calculate interactions between features\n",
    "    interactions = {\n",
    "        'mean_thickness_std_thickness': mean_thickness * std_thickness,\n",
    "        'mean_thickness_num_pixels': mean_thickness * num_pixels,\n",
    "        'mean_thickness_num_ep': mean_thickness * num_ep,\n",
    "        'mean_thickness_num_inters': mean_thickness * num_inters,\n",
    "        'std_thickness_num_pixels': std_thickness * num_pixels,\n",
    "        'std_thickness_num_ep': std_thickness * num_ep,\n",
    "        'std_thickness_num_inters': std_thickness * num_inters,\n",
    "        'num_pixels_num_ep': num_pixels * num_ep,\n",
    "        'num_pixels_num_inters': num_pixels * num_inters,\n",
    "        'num_ep_num_inters': num_ep * num_inters\n",
    "    }\n",
    "\n",
    "    # Create a DataFrame with the processed features\n",
    "    feature_data = {\n",
    "        'mean_thickness': mean_thickness,\n",
    "        'std_thickness': std_thickness,\n",
    "        'num_pixels': num_pixels,\n",
    "        'num_ep': num_ep,\n",
    "        'num_inters': num_inters,\n",
    "        **interactions  # Include interactions in the DataFrame\n",
    "    }\n",
    "\n",
    "    df = pd.DataFrame([feature_data])\n",
    "\n",
    "    return df\n",
    "\n"
   ]
  },
  {
   "cell_type": "code",
   "execution_count": 56,
   "metadata": {},
   "outputs": [
    {
     "data": {
      "text/html": [
       "<div>\n",
       "<style scoped>\n",
       "    .dataframe tbody tr th:only-of-type {\n",
       "        vertical-align: middle;\n",
       "    }\n",
       "\n",
       "    .dataframe tbody tr th {\n",
       "        vertical-align: top;\n",
       "    }\n",
       "\n",
       "    .dataframe thead th {\n",
       "        text-align: right;\n",
       "    }\n",
       "</style>\n",
       "<table border=\"1\" class=\"dataframe\">\n",
       "  <thead>\n",
       "    <tr style=\"text-align: right;\">\n",
       "      <th></th>\n",
       "      <th>mean_thickness</th>\n",
       "      <th>std_thickness</th>\n",
       "      <th>num_pixels</th>\n",
       "      <th>num_ep</th>\n",
       "      <th>num_inters</th>\n",
       "      <th>mean_thickness_std_thickness</th>\n",
       "      <th>mean_thickness_num_pixels</th>\n",
       "      <th>mean_thickness_num_ep</th>\n",
       "      <th>mean_thickness_num_inters</th>\n",
       "      <th>std_thickness_num_pixels</th>\n",
       "      <th>std_thickness_num_ep</th>\n",
       "      <th>std_thickness_num_inters</th>\n",
       "      <th>num_pixels_num_ep</th>\n",
       "      <th>num_pixels_num_inters</th>\n",
       "      <th>num_ep_num_inters</th>\n",
       "    </tr>\n",
       "  </thead>\n",
       "  <tbody>\n",
       "    <tr>\n",
       "      <th>0</th>\n",
       "      <td>22.138837</td>\n",
       "      <td>10.930295</td>\n",
       "      <td>116269</td>\n",
       "      <td>10</td>\n",
       "      <td>14</td>\n",
       "      <td>241.984008</td>\n",
       "      <td>2.574060e+06</td>\n",
       "      <td>221.388368</td>\n",
       "      <td>309.943715</td>\n",
       "      <td>1.270854e+06</td>\n",
       "      <td>109.302946</td>\n",
       "      <td>153.024125</td>\n",
       "      <td>1162690</td>\n",
       "      <td>1627766</td>\n",
       "      <td>140</td>\n",
       "    </tr>\n",
       "  </tbody>\n",
       "</table>\n",
       "</div>"
      ],
      "text/plain": [
       "   mean_thickness  std_thickness  num_pixels  num_ep  num_inters  \\\n",
       "0       22.138837      10.930295      116269      10          14   \n",
       "\n",
       "   mean_thickness_std_thickness  mean_thickness_num_pixels  \\\n",
       "0                    241.984008               2.574060e+06   \n",
       "\n",
       "   mean_thickness_num_ep  mean_thickness_num_inters  std_thickness_num_pixels  \\\n",
       "0             221.388368                 309.943715              1.270854e+06   \n",
       "\n",
       "   std_thickness_num_ep  std_thickness_num_inters  num_pixels_num_ep  \\\n",
       "0            109.302946                153.024125            1162690   \n",
       "\n",
       "   num_pixels_num_inters  num_ep_num_inters  \n",
       "0                1627766                140  "
      ]
     },
     "execution_count": 56,
     "metadata": {},
     "output_type": "execute_result"
    }
   ],
   "source": [
    "image_path = 'new_test\\healthy\\V01HO01.png'  # Replace with the path to your single image\n",
    "processed_df = process_single_image(image_path)\n",
    "processed_df"
   ]
  },
  {
   "cell_type": "code",
   "execution_count": 45,
   "metadata": {},
   "outputs": [],
   "source": [
    "import pickle\n",
    "\n",
    "# Load the RF model\n",
    "with open('rf_model.pickle', 'rb') as model_file:\n",
    "    loaded_rf_model = pickle.load(model_file)\n",
    "\n"
   ]
  },
  {
   "cell_type": "code",
   "execution_count": 57,
   "metadata": {},
   "outputs": [
    {
     "name": "stdout",
     "output_type": "stream",
     "text": [
      "[1]\n"
     ]
    }
   ],
   "source": [
    "# Make predictions using the loaded model\n",
    "predictions = loaded_rf_model.predict(processed_df )\n",
    "\n",
    "# The 'predictions' variable now contains the predicted labels for each row in processed_df\n",
    "print(predictions)\n"
   ]
  }
 ],
 "metadata": {
  "kernelspec": {
   "display_name": "Python 3",
   "language": "python",
   "name": "python3"
  },
  "language_info": {
   "codemirror_mode": {
    "name": "ipython",
    "version": 3
   },
   "file_extension": ".py",
   "mimetype": "text/x-python",
   "name": "python",
   "nbconvert_exporter": "python",
   "pygments_lexer": "ipython3",
   "version": "3.11.4"
  },
  "orig_nbformat": 4
 },
 "nbformat": 4,
 "nbformat_minor": 2
}
