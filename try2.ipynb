{
 "cells": [
  {
   "cell_type": "code",
   "execution_count": 21,
   "metadata": {},
   "outputs": [
    {
     "name": "stderr",
     "output_type": "stream",
     "text": [
      "C:\\Users\\Admin\\AppData\\Local\\Temp\\ipykernel_7108\\3012124106.py:8: DeprecationWarning: Please use `distance_transform_edt` from the `scipy.ndimage` namespace, the `scipy.ndimage.morphology` namespace is deprecated.\n",
      "  from scipy.ndimage.morphology import distance_transform_edt\n"
     ]
    }
   ],
   "source": [
    "import cv2\n",
    "import numpy as np\n",
    "from skimage.morphology import closing, disk\n",
    "from skimage.measure import label, regionprops\n",
    "from skimage.filters import threshold_otsu\n",
    "from skimage.draw import polygon\n",
    "from skimage.feature import canny\n",
    "from scipy.ndimage.morphology import distance_transform_edt\n",
    "from skimage.transform import resize\n",
    "import pandas as pd\n",
    "from utils.process_images import *\n",
    "from utils.process_data import *"
   ]
  },
  {
   "cell_type": "code",
   "execution_count": 22,
   "metadata": {},
   "outputs": [],
   "source": [
    "def process_single_image(image_path):\n",
    "    # Load and preprocess the image\n",
    "    img = cv2.imread(image_path, cv2.IMREAD_GRAYSCALE)\n",
    "    thresh_img = cv2.threshold(img, 0, 255, cv2.THRESH_BINARY + cv2.THRESH_OTSU)[1]\n",
    "    clean_img = closing(thresh_img > 0, disk(1))\n",
    "\n",
    "    # Calculate stroke thickness\n",
    "    thickness = stroke_thickness(clean_img)\n",
    "    mean_thickness = np.mean(thickness)\n",
    "    std_thickness = np.std(thickness)\n",
    "\n",
    "    # Calculate number of pixels, end points, and intersection points\n",
    "    num_pixels = np.sum(clean_img)\n",
    "    num_ep = number_of_end_points(clean_img, k_nn)\n",
    "    num_inters = number_of_intersection_points(clean_img, k_nn)\n",
    "\n",
    "    # Calculate interactions between features\n",
    "    interactions = {\n",
    "        'mean_thickness_std_thickness': mean_thickness * std_thickness,\n",
    "        'mean_thickness_num_pixels': mean_thickness * num_pixels,\n",
    "        'mean_thickness_num_ep': mean_thickness * num_ep,\n",
    "        'mean_thickness_num_inters': mean_thickness * num_inters,\n",
    "        'std_thickness_num_pixels': std_thickness * num_pixels,\n",
    "        'std_thickness_num_ep': std_thickness * num_ep,\n",
    "        'std_thickness_num_inters': std_thickness * num_inters,\n",
    "        'num_pixels_num_ep': num_pixels * num_ep,\n",
    "        'num_pixels_num_inters': num_pixels * num_inters,\n",
    "        'num_ep_num_inters': num_ep * num_inters\n",
    "    }\n",
    "\n",
    "    # Create a DataFrame with the processed features\n",
    "    feature_data = {\n",
    "        'mean_thickness': mean_thickness,\n",
    "        'std_thickness': std_thickness,\n",
    "        'num_pixels': num_pixels,\n",
    "        'num_ep': num_ep,\n",
    "        'num_inters': num_inters,\n",
    "        **interactions  # Include interactions in the DataFrame\n",
    "    }\n",
    "\n",
    "    df = pd.DataFrame([feature_data])\n",
    "\n",
    "    return df\n",
    "\n"
   ]
  },
  {
   "cell_type": "code",
   "execution_count": 30,
   "metadata": {},
   "outputs": [
    {
     "ename": "ValueError",
     "evalue": "setting an array element with a sequence.",
     "output_type": "error",
     "traceback": [
      "\u001b[1;31m---------------------------------------------------------------------------\u001b[0m",
      "\u001b[1;31mTypeError\u001b[0m                                 Traceback (most recent call last)",
      "\u001b[1;31mTypeError\u001b[0m: only size-1 arrays can be converted to Python scalars",
      "\nThe above exception was the direct cause of the following exception:\n",
      "\u001b[1;31mValueError\u001b[0m                                Traceback (most recent call last)",
      "Cell \u001b[1;32mIn[30], line 2\u001b[0m\n\u001b[0;32m      1\u001b[0m image_path \u001b[39m=\u001b[39m \u001b[39m'\u001b[39m\u001b[39mimages\u001b[39m\u001b[39m\\\u001b[39m\u001b[39mV03PO01.png\u001b[39m\u001b[39m'\u001b[39m  \u001b[39m# Replace with the path to your single image\u001b[39;00m\n\u001b[1;32m----> 2\u001b[0m processed_df \u001b[39m=\u001b[39m process_single_image(image_path)\n\u001b[0;32m      3\u001b[0m processed_df\n",
      "Cell \u001b[1;32mIn[22], line 15\u001b[0m, in \u001b[0;36mprocess_single_image\u001b[1;34m(image_path)\u001b[0m\n\u001b[0;32m     13\u001b[0m num_pixels \u001b[39m=\u001b[39m np\u001b[39m.\u001b[39msum(clean_img)\n\u001b[0;32m     14\u001b[0m num_ep \u001b[39m=\u001b[39m number_of_end_points(clean_img, k_nn)\n\u001b[1;32m---> 15\u001b[0m num_inters \u001b[39m=\u001b[39m number_of_intersection_points(clean_img, k_nn)\n\u001b[0;32m     17\u001b[0m \u001b[39m# Calculate interactions between features\u001b[39;00m\n\u001b[0;32m     18\u001b[0m interactions \u001b[39m=\u001b[39m {\n\u001b[0;32m     19\u001b[0m     \u001b[39m'\u001b[39m\u001b[39mmean_thickness_std_thickness\u001b[39m\u001b[39m'\u001b[39m: mean_thickness \u001b[39m*\u001b[39m std_thickness,\n\u001b[0;32m     20\u001b[0m     \u001b[39m'\u001b[39m\u001b[39mmean_thickness_num_pixels\u001b[39m\u001b[39m'\u001b[39m: mean_thickness \u001b[39m*\u001b[39m num_pixels,\n\u001b[1;32m   (...)\u001b[0m\n\u001b[0;32m     28\u001b[0m     \u001b[39m'\u001b[39m\u001b[39mnum_ep_num_inters\u001b[39m\u001b[39m'\u001b[39m: num_ep \u001b[39m*\u001b[39m num_inters\n\u001b[0;32m     29\u001b[0m }\n",
      "File \u001b[1;32mc:\\Users\\Admin\\Bootcamp_parkinsons\\utils\\process_images.py:153\u001b[0m, in \u001b[0;36mnumber_of_intersection_points\u001b[1;34m(in_img, k_nn)\u001b[0m\n\u001b[0;32m    151\u001b[0m branch_label_img \u001b[39m=\u001b[39m create_branches(img_skel, k_nn)\n\u001b[0;32m    152\u001b[0m img_nn \u001b[39m=\u001b[39m nearest_neighbours(img_skel, k_nn)\n\u001b[1;32m--> 153\u001b[0m img_cleaned_nn, img_cleaned_label \u001b[39m=\u001b[39m clean_labelled(img_nn, branch_label_img)\n\u001b[0;32m    154\u001b[0m img_inter \u001b[39m=\u001b[39m (img_cleaned_nn \u001b[39m==\u001b[39m \u001b[39m3\u001b[39m)\u001b[39m.\u001b[39mastype(np\u001b[39m.\u001b[39muint8)\n\u001b[0;32m    155\u001b[0m \u001b[39mreturn\u001b[39;00m np\u001b[39m.\u001b[39msum(img_inter[img_inter \u001b[39m!=\u001b[39m \u001b[39m0\u001b[39m])\n",
      "File \u001b[1;32mc:\\Users\\Admin\\Bootcamp_parkinsons\\utils\\process_images.py:142\u001b[0m, in \u001b[0;36mclean_labelled\u001b[1;34m(in_img, label_img)\u001b[0m\n\u001b[0;32m    140\u001b[0m \u001b[39mfor\u001b[39;00m i, (x, y) \u001b[39min\u001b[39;00m \u001b[39menumerate\u001b[39m(tmp_nodes):\n\u001b[0;32m    141\u001b[0m     \u001b[39mif\u001b[39;00m \u001b[39mlen\u001b[39m(edges_around_nodes[i]) \u001b[39m>\u001b[39m \u001b[39m0\u001b[39m:\n\u001b[1;32m--> 142\u001b[0m         label_img[x, y] \u001b[39m=\u001b[39m edges_around_nodes[i]\n\u001b[0;32m    144\u001b[0m tmp_nn \u001b[39m=\u001b[39m (img_1_conn_sum \u001b[39m>\u001b[39m\u001b[39m=\u001b[39m \u001b[39m3\u001b[39m) \u001b[39m*\u001b[39m (img_1_conn_sum \u001b[39m<\u001b[39m\u001b[39m=\u001b[39m \u001b[39m5\u001b[39m)  \u001b[39m# incorrect intersections\u001b[39;00m\n\u001b[0;32m    145\u001b[0m img_cleaned_nn \u001b[39m=\u001b[39m np\u001b[39m.\u001b[39mwhere(tmp_nn \u001b[39m==\u001b[39m \u001b[39mTrue\u001b[39;00m, \u001b[39m2\u001b[39m, in_img)  \u001b[39m# reset to 'corrected' NN to value of 2\u001b[39;00m\n",
      "\u001b[1;31mValueError\u001b[0m: setting an array element with a sequence."
     ]
    }
   ],
   "source": [
    "image_path = 'images\\V03PO01.png'  # Replace with the path to your single image\n",
    "processed_df = process_single_image(image_path)\n",
    "processed_df"
   ]
  },
  {
   "cell_type": "code",
   "execution_count": 24,
   "metadata": {},
   "outputs": [],
   "source": [
    "import pickle\n",
    "\n",
    "# Load the RF model\n",
    "with open('rf_model.pickle', 'rb') as model_file:\n",
    "    loaded_rf_model = pickle.load(model_file)\n",
    "\n"
   ]
  },
  {
   "cell_type": "code",
   "execution_count": 25,
   "metadata": {},
   "outputs": [
    {
     "name": "stdout",
     "output_type": "stream",
     "text": [
      "[1]\n"
     ]
    }
   ],
   "source": [
    "# Make predictions using the loaded model\n",
    "predictions = loaded_rf_model.predict(processed_df )\n",
    "\n",
    "# The 'predictions' variable now contains the predicted labels for each row in processed_df\n",
    "print(predictions)\n"
   ]
  },
  {
   "cell_type": "code",
   "execution_count": 28,
   "metadata": {},
   "outputs": [
    {
     "name": "stdout",
     "output_type": "stream",
     "text": [
      "Image width: 512px\n",
      "Image height: 265px\n"
     ]
    }
   ],
   "source": [
    "from PIL import Image\n",
    "def get_image_size(image_path):\n",
    "    try:\n",
    "        img = Image.open(image_path)\n",
    "        width, height = img.size\n",
    "        return width, height\n",
    "    except IOError as e:\n",
    "        print(f\"Unable to open image: {e}\")\n",
    "        return None, None\n",
    "\n",
    " # Replace with the actual path to your image\n",
    "width, height = get_image_size('drawings\\\\wave\\\\training\\\\healthy\\\\V01HO02.png')\n",
    "\n",
    "if width and height:\n",
    "    print(f\"Image width: {width}px\")\n",
    "    print(f\"Image height: {height}px\")"
   ]
  },
  {
   "cell_type": "code",
   "execution_count": 31,
   "metadata": {},
   "outputs": [
    {
     "name": "stdout",
     "output_type": "stream",
     "text": [
      "Image width: 512px\n",
      "Image height: 263px\n"
     ]
    }
   ],
   "source": [
    "from PIL import Image\n",
    "def get_image_size(image_path):\n",
    "    try:\n",
    "        img = Image.open(image_path)\n",
    "        width, height = img.size\n",
    "        return width, height\n",
    "    except IOError as e:\n",
    "        print(f\"Unable to open image: {e}\")\n",
    "        return None, None\n",
    "\n",
    " # Replace with the actual path to your image\n",
    "width, height = get_image_size('images\\V03PO01.png')\n",
    "\n",
    "if width and height:\n",
    "    print(f\"Image width: {width}px\")\n",
    "    print(f\"Image height: {height}px\")"
   ]
  }
 ],
 "metadata": {
  "kernelspec": {
   "display_name": "Python 3",
   "language": "python",
   "name": "python3"
  },
  "language_info": {
   "codemirror_mode": {
    "name": "ipython",
    "version": 3
   },
   "file_extension": ".py",
   "mimetype": "text/x-python",
   "name": "python",
   "nbconvert_exporter": "python",
   "pygments_lexer": "ipython3",
   "version": "3.11.4"
  },
  "orig_nbformat": 4
 },
 "nbformat": 4,
 "nbformat_minor": 2
}
