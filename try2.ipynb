{
 "cells": [
  {
   "cell_type": "code",
   "execution_count": 12,
   "metadata": {},
   "outputs": [],
   "source": [
    "import pandas as pd\n",
    "import numpy as np\n",
    "from pathlib import Path\n",
    "import tensorflow as tf\n",
    "from keras.models import Sequential\n",
    "from keras.layers import Conv2D, MaxPooling2D, Flatten, Dense, Dropout\n",
    "from keras.preprocessing.image import ImageDataGenerator\n",
    "from keras.optimizers import Adam\n",
    "from keras.callbacks import EarlyStopping, ReduceLROnPlateau\n",
    "from PIL import Image\n",
    "import matplotlib.pyplot as plt\n",
    "from keras.models import load_model"
   ]
  },
  {
   "cell_type": "code",
   "execution_count": 17,
   "metadata": {},
   "outputs": [
    {
     "name": "stdout",
     "output_type": "stream",
     "text": [
      "[WindowsPath('drawings/wave/new_test/healthy/V01HO01.png'), WindowsPath('drawings/wave/new_test/healthy/V02HO01.png')]\n"
     ]
    }
   ],
   "source": [
    "images_path = \"drawings\\\\wave\\\\new_test\\\\healthy\"\n",
    "\n",
    "path = Path(images_path)\n",
    "files = list(path.glob('*'))\n",
    "print(files)"
   ]
  },
  {
   "cell_type": "markdown",
   "metadata": {},
   "source": [
    "### Check image size"
   ]
  },
  {
   "cell_type": "code",
   "execution_count": 3,
   "metadata": {},
   "outputs": [
    {
     "name": "stdout",
     "output_type": "stream",
     "text": [
      "Image width: 512px\n",
      "Image height: 265px\n"
     ]
    }
   ],
   "source": [
    "def get_image_size(image_path):\n",
    "    try:\n",
    "        img = Image.open(image_path)\n",
    "        width, height = img.size\n",
    "        return width, height\n",
    "    except IOError as e:\n",
    "        print(f\"Unable to open image: {e}\")\n",
    "        return None, None\n",
    "\n",
    " # Replace with the actual path to your image\n",
    "width, height = get_image_size('drawings\\\\wave\\\\training\\\\healthy\\\\V01HO02.png')\n",
    "\n",
    "if width and height:\n",
    "    print(f\"Image width: {width}px\")\n",
    "    print(f\"Image height: {height}px\")"
   ]
  },
  {
   "cell_type": "markdown",
   "metadata": {},
   "source": [
    "### Define mode1 and image genrator "
   ]
  },
  {
   "cell_type": "code",
   "execution_count": 4,
   "metadata": {},
   "outputs": [],
   "source": [
    "classifier=Sequential()\n",
    "classifier.add(Conv2D(32,(3,3),input_shape=(128, 128, 3),activation='relu'))\n",
    "classifier.add(MaxPooling2D(pool_size=(2,2)))\n",
    "classifier.add(Conv2D(32,(3,3),activation='relu'))\n",
    "classifier.add(MaxPooling2D(pool_size=(2,2)))\n",
    "classifier.add(Flatten())\n",
    "classifier.add(Dense(activation='relu',units=128))\n",
    "classifier.add(Dense(activation='sigmoid',units=1))"
   ]
  },
  {
   "cell_type": "code",
   "execution_count": 5,
   "metadata": {},
   "outputs": [],
   "source": [
    "train_datagen1 = ImageDataGenerator(rescale = 1./255,\n",
    "                                  shear_range = 0.2,\n",
    "                                  zoom_range = 0.2,\n",
    "                                  horizontal_flip = True)\n",
    "\n",
    "test_datagen1 = ImageDataGenerator(rescale = 1./255)"
   ]
  },
  {
   "cell_type": "code",
   "execution_count": 6,
   "metadata": {},
   "outputs": [
    {
     "name": "stdout",
     "output_type": "stream",
     "text": [
      "Found 72 images belonging to 2 classes.\n",
      "Found 26 images belonging to 2 classes.\n"
     ]
    }
   ],
   "source": [
    "wave_train_generator1 = train_datagen1.flow_from_directory('drawings\\\\wave\\\\training',\n",
    "                                                   target_size = (128,128),# Images will be resized to 128x128 pixels\n",
    "                                                   batch_size = 32,\n",
    "                                                   class_mode = 'binary')\n",
    "\n",
    "wave_test_generator1 = test_datagen1.flow_from_directory('drawings\\\\wave\\\\testing',\n",
    "                                                   target_size = (128,128), # Images will be resized to 128x128 pixels\n",
    "                                                   batch_size = 32,\n",
    "                                                   class_mode = 'binary')"
   ]
  },
  {
   "cell_type": "code",
   "execution_count": 7,
   "metadata": {},
   "outputs": [],
   "source": [
    "#define training varable \n",
    "\n",
    "'''\n",
    "EarlyStopping: This callback monitors the validation loss and stops training when the validation loss stops improving. It helps prevent overfitting by stopping training early if the model's performance on the validation data plateaus. The parameters you've used are:\n",
    "\n",
    "monitor='val_loss': The metric to monitor for improvement.\n",
    "min_delta=0: The minimum change in the monitored metric to be considered as an improvement.\n",
    "patience=3: The number of epochs with no improvement after which training will be stopped.\n",
    "verbose=1: Print messages about early stopping.\n",
    "restore_best_weights=True: Restore the model's weights to the best ones when stopping.\n",
    "'''\n",
    "\n",
    "early_stopping = EarlyStopping(monitor='val_loss',\n",
    "                          min_delta=0,\n",
    "                          patience=3,\n",
    "                          verbose=1,\n",
    "                          restore_best_weights=True\n",
    "                          )\n",
    "\n",
    "'''\n",
    "ReduceLROnPlateau: This callback reduces the learning rate when the validation loss plateaus. Lowering the learning rate can help the model converge better in later stages of training. The parameters you've used are:\n",
    "\n",
    "monitor='val_loss': The metric to monitor for improvement.\n",
    "factor=0.2: The factor by which the learning rate will be reduced.\n",
    "patience=3: The number of epochs with no improvement after which the learning rate will be reduced.\n",
    "verbose=1: Print messages about the learning rate reduction.\n",
    "min_delta=0.0001: The minimum change in the monitored metric to be considered as an improvement.\n",
    "'''\n",
    "\n",
    "reduce_learningrate = ReduceLROnPlateau(monitor='val_loss',\n",
    "                              factor=0.2,\n",
    "                              patience=3,\n",
    "                              verbose=1,\n",
    "                              min_delta=0.0001)\n",
    "\n",
    "callbacks_list = [early_stopping,reduce_learningrate]\n",
    "\n",
    "epochs = 48\n",
    "\n",
    "classifier.compile(loss='binary_crossentropy',\n",
    "              optimizer = Adam(learning_rate=0.001),\n",
    "              metrics=['accuracy'])"
   ]
  },
  {
   "cell_type": "code",
   "execution_count": 8,
   "metadata": {},
   "outputs": [
    {
     "name": "stderr",
     "output_type": "stream",
     "text": [
      "C:\\Users\\Taqana\\AppData\\Local\\Temp\\ipykernel_14896\\2007578884.py:1: UserWarning: `Model.fit_generator` is deprecated and will be removed in a future version. Please use `Model.fit`, which supports generators.\n",
      "  history = classifier.fit_generator(\n"
     ]
    },
    {
     "name": "stdout",
     "output_type": "stream",
     "text": [
      "Epoch 1/48\n",
      "2/2 [==============================] - ETA: 0s - loss: 1.6143 - accuracy: 0.5469WARNING:tensorflow:Early stopping conditioned on metric `val_loss` which is not available. Available metrics are: loss,accuracy\n",
      "WARNING:tensorflow:Learning rate reduction is conditioned on metric `val_loss` which is not available. Available metrics are: loss,accuracy,lr\n",
      "2/2 [==============================] - 4s 1s/step - loss: 1.6143 - accuracy: 0.5469 - lr: 0.0010\n",
      "Epoch 2/48\n",
      "2/2 [==============================] - ETA: 0s - loss: 0.7128 - accuracy: 0.5500WARNING:tensorflow:Early stopping conditioned on metric `val_loss` which is not available. Available metrics are: loss,accuracy\n",
      "WARNING:tensorflow:Learning rate reduction is conditioned on metric `val_loss` which is not available. Available metrics are: loss,accuracy,lr\n",
      "2/2 [==============================] - 2s 1s/step - loss: 0.7128 - accuracy: 0.5500 - lr: 0.0010\n",
      "Epoch 3/48\n",
      "2/2 [==============================] - ETA: 0s - loss: 0.6921 - accuracy: 0.5750WARNING:tensorflow:Early stopping conditioned on metric `val_loss` which is not available. Available metrics are: loss,accuracy\n",
      "WARNING:tensorflow:Learning rate reduction is conditioned on metric `val_loss` which is not available. Available metrics are: loss,accuracy,lr\n",
      "2/2 [==============================] - 1s 234ms/step - loss: 0.6921 - accuracy: 0.5750 - lr: 0.0010\n",
      "Epoch 4/48\n",
      "2/2 [==============================] - ETA: 0s - loss: 0.7005 - accuracy: 0.5250WARNING:tensorflow:Early stopping conditioned on metric `val_loss` which is not available. Available metrics are: loss,accuracy\n",
      "WARNING:tensorflow:Learning rate reduction is conditioned on metric `val_loss` which is not available. Available metrics are: loss,accuracy,lr\n",
      "2/2 [==============================] - 1s 843ms/step - loss: 0.7005 - accuracy: 0.5250 - lr: 0.0010\n",
      "Epoch 5/48\n",
      "2/2 [==============================] - ETA: 0s - loss: 0.6823 - accuracy: 0.5750WARNING:tensorflow:Early stopping conditioned on metric `val_loss` which is not available. Available metrics are: loss,accuracy\n",
      "WARNING:tensorflow:Learning rate reduction is conditioned on metric `val_loss` which is not available. Available metrics are: loss,accuracy,lr\n",
      "2/2 [==============================] - 1s 941ms/step - loss: 0.6823 - accuracy: 0.5750 - lr: 0.0010\n",
      "Epoch 6/48\n",
      "2/2 [==============================] - ETA: 0s - loss: 0.7015 - accuracy: 0.5156WARNING:tensorflow:Early stopping conditioned on metric `val_loss` which is not available. Available metrics are: loss,accuracy\n",
      "WARNING:tensorflow:Learning rate reduction is conditioned on metric `val_loss` which is not available. Available metrics are: loss,accuracy,lr\n",
      "2/2 [==============================] - 2s 702ms/step - loss: 0.7015 - accuracy: 0.5156 - lr: 0.0010\n",
      "Epoch 7/48\n",
      "2/2 [==============================] - ETA: 0s - loss: 0.6944 - accuracy: 0.5000WARNING:tensorflow:Early stopping conditioned on metric `val_loss` which is not available. Available metrics are: loss,accuracy\n",
      "WARNING:tensorflow:Learning rate reduction is conditioned on metric `val_loss` which is not available. Available metrics are: loss,accuracy,lr\n",
      "2/2 [==============================] - 1s 936ms/step - loss: 0.6944 - accuracy: 0.5000 - lr: 0.0010\n",
      "Epoch 8/48\n",
      "2/2 [==============================] - ETA: 0s - loss: 0.6878 - accuracy: 0.5500WARNING:tensorflow:Early stopping conditioned on metric `val_loss` which is not available. Available metrics are: loss,accuracy\n",
      "WARNING:tensorflow:Learning rate reduction is conditioned on metric `val_loss` which is not available. Available metrics are: loss,accuracy,lr\n",
      "2/2 [==============================] - 1s 247ms/step - loss: 0.6878 - accuracy: 0.5500 - lr: 0.0010\n",
      "Epoch 9/48\n",
      "2/2 [==============================] - ETA: 0s - loss: 0.6844 - accuracy: 0.5750WARNING:tensorflow:Early stopping conditioned on metric `val_loss` which is not available. Available metrics are: loss,accuracy\n",
      "WARNING:tensorflow:Learning rate reduction is conditioned on metric `val_loss` which is not available. Available metrics are: loss,accuracy,lr\n",
      "2/2 [==============================] - 1s 254ms/step - loss: 0.6844 - accuracy: 0.5750 - lr: 0.0010\n",
      "Epoch 10/48\n",
      "2/2 [==============================] - ETA: 0s - loss: 0.6946 - accuracy: 0.4844WARNING:tensorflow:Early stopping conditioned on metric `val_loss` which is not available. Available metrics are: loss,accuracy\n",
      "WARNING:tensorflow:Learning rate reduction is conditioned on metric `val_loss` which is not available. Available metrics are: loss,accuracy,lr\n",
      "2/2 [==============================] - 2s 1s/step - loss: 0.6946 - accuracy: 0.4844 - lr: 0.0010\n",
      "Epoch 11/48\n",
      "2/2 [==============================] - ETA: 0s - loss: 0.6915 - accuracy: 0.5000WARNING:tensorflow:Early stopping conditioned on metric `val_loss` which is not available. Available metrics are: loss,accuracy\n",
      "WARNING:tensorflow:Learning rate reduction is conditioned on metric `val_loss` which is not available. Available metrics are: loss,accuracy,lr\n",
      "2/2 [==============================] - 2s 1s/step - loss: 0.6915 - accuracy: 0.5000 - lr: 0.0010\n",
      "Epoch 12/48\n",
      "2/2 [==============================] - ETA: 0s - loss: 0.6937 - accuracy: 0.4500WARNING:tensorflow:Early stopping conditioned on metric `val_loss` which is not available. Available metrics are: loss,accuracy\n",
      "WARNING:tensorflow:Learning rate reduction is conditioned on metric `val_loss` which is not available. Available metrics are: loss,accuracy,lr\n",
      "2/2 [==============================] - 2s 353ms/step - loss: 0.6937 - accuracy: 0.4500 - lr: 0.0010\n",
      "Epoch 13/48\n",
      "2/2 [==============================] - ETA: 0s - loss: 0.6911 - accuracy: 0.5500WARNING:tensorflow:Early stopping conditioned on metric `val_loss` which is not available. Available metrics are: loss,accuracy\n",
      "WARNING:tensorflow:Learning rate reduction is conditioned on metric `val_loss` which is not available. Available metrics are: loss,accuracy,lr\n",
      "2/2 [==============================] - 2s 370ms/step - loss: 0.6911 - accuracy: 0.5500 - lr: 0.0010\n",
      "Epoch 14/48\n",
      "2/2 [==============================] - ETA: 0s - loss: 0.6885 - accuracy: 0.6500WARNING:tensorflow:Early stopping conditioned on metric `val_loss` which is not available. Available metrics are: loss,accuracy\n",
      "WARNING:tensorflow:Learning rate reduction is conditioned on metric `val_loss` which is not available. Available metrics are: loss,accuracy,lr\n",
      "2/2 [==============================] - 2s 1s/step - loss: 0.6885 - accuracy: 0.6500 - lr: 0.0010\n",
      "Epoch 15/48\n",
      "2/2 [==============================] - ETA: 0s - loss: 0.6897 - accuracy: 0.5000WARNING:tensorflow:Early stopping conditioned on metric `val_loss` which is not available. Available metrics are: loss,accuracy\n",
      "WARNING:tensorflow:Learning rate reduction is conditioned on metric `val_loss` which is not available. Available metrics are: loss,accuracy,lr\n",
      "2/2 [==============================] - 2s 831ms/step - loss: 0.6897 - accuracy: 0.5000 - lr: 0.0010\n",
      "Epoch 16/48\n",
      "2/2 [==============================] - ETA: 0s - loss: 0.7045 - accuracy: 0.5000WARNING:tensorflow:Early stopping conditioned on metric `val_loss` which is not available. Available metrics are: loss,accuracy\n",
      "WARNING:tensorflow:Learning rate reduction is conditioned on metric `val_loss` which is not available. Available metrics are: loss,accuracy,lr\n",
      "2/2 [==============================] - 1s 1s/step - loss: 0.7045 - accuracy: 0.5000 - lr: 0.0010\n",
      "Epoch 17/48\n",
      "2/2 [==============================] - ETA: 0s - loss: 0.6767 - accuracy: 0.5500WARNING:tensorflow:Early stopping conditioned on metric `val_loss` which is not available. Available metrics are: loss,accuracy\n",
      "WARNING:tensorflow:Learning rate reduction is conditioned on metric `val_loss` which is not available. Available metrics are: loss,accuracy,lr\n",
      "2/2 [==============================] - 1s 294ms/step - loss: 0.6767 - accuracy: 0.5500 - lr: 0.0010\n",
      "Epoch 18/48\n",
      "2/2 [==============================] - ETA: 0s - loss: 0.6865 - accuracy: 0.5250WARNING:tensorflow:Early stopping conditioned on metric `val_loss` which is not available. Available metrics are: loss,accuracy\n",
      "WARNING:tensorflow:Learning rate reduction is conditioned on metric `val_loss` which is not available. Available metrics are: loss,accuracy,lr\n",
      "2/2 [==============================] - 2s 331ms/step - loss: 0.6865 - accuracy: 0.5250 - lr: 0.0010\n",
      "Epoch 19/48\n",
      "2/2 [==============================] - ETA: 0s - loss: 0.7158 - accuracy: 0.4750WARNING:tensorflow:Early stopping conditioned on metric `val_loss` which is not available. Available metrics are: loss,accuracy\n",
      "WARNING:tensorflow:Learning rate reduction is conditioned on metric `val_loss` which is not available. Available metrics are: loss,accuracy,lr\n",
      "2/2 [==============================] - 1s 312ms/step - loss: 0.7158 - accuracy: 0.4750 - lr: 0.0010\n",
      "Epoch 20/48\n",
      "2/2 [==============================] - ETA: 0s - loss: 0.6831 - accuracy: 0.4750WARNING:tensorflow:Early stopping conditioned on metric `val_loss` which is not available. Available metrics are: loss,accuracy\n",
      "WARNING:tensorflow:Learning rate reduction is conditioned on metric `val_loss` which is not available. Available metrics are: loss,accuracy,lr\n",
      "2/2 [==============================] - 1s 872ms/step - loss: 0.6831 - accuracy: 0.4750 - lr: 0.0010\n",
      "Epoch 21/48\n",
      "2/2 [==============================] - ETA: 0s - loss: 0.6797 - accuracy: 0.5000WARNING:tensorflow:Early stopping conditioned on metric `val_loss` which is not available. Available metrics are: loss,accuracy\n",
      "WARNING:tensorflow:Learning rate reduction is conditioned on metric `val_loss` which is not available. Available metrics are: loss,accuracy,lr\n",
      "2/2 [==============================] - 2s 1s/step - loss: 0.6797 - accuracy: 0.5000 - lr: 0.0010\n",
      "Epoch 22/48\n",
      "2/2 [==============================] - ETA: 0s - loss: 0.6758 - accuracy: 0.5156WARNING:tensorflow:Early stopping conditioned on metric `val_loss` which is not available. Available metrics are: loss,accuracy\n",
      "WARNING:tensorflow:Learning rate reduction is conditioned on metric `val_loss` which is not available. Available metrics are: loss,accuracy,lr\n",
      "2/2 [==============================] - 2s 991ms/step - loss: 0.6758 - accuracy: 0.5156 - lr: 0.0010\n",
      "Epoch 23/48\n",
      "2/2 [==============================] - ETA: 0s - loss: 0.6920 - accuracy: 0.5250WARNING:tensorflow:Early stopping conditioned on metric `val_loss` which is not available. Available metrics are: loss,accuracy\n",
      "WARNING:tensorflow:Learning rate reduction is conditioned on metric `val_loss` which is not available. Available metrics are: loss,accuracy,lr\n",
      "2/2 [==============================] - 1s 1s/step - loss: 0.6920 - accuracy: 0.5250 - lr: 0.0010\n",
      "Epoch 24/48\n",
      "2/2 [==============================] - ETA: 0s - loss: 0.7070 - accuracy: 0.4750WARNING:tensorflow:Early stopping conditioned on metric `val_loss` which is not available. Available metrics are: loss,accuracy\n",
      "WARNING:tensorflow:Learning rate reduction is conditioned on metric `val_loss` which is not available. Available metrics are: loss,accuracy,lr\n",
      "2/2 [==============================] - 2s 1s/step - loss: 0.7070 - accuracy: 0.4750 - lr: 0.0010\n",
      "Epoch 25/48\n",
      "2/2 [==============================] - ETA: 0s - loss: 0.6867 - accuracy: 0.6500WARNING:tensorflow:Early stopping conditioned on metric `val_loss` which is not available. Available metrics are: loss,accuracy\n",
      "WARNING:tensorflow:Learning rate reduction is conditioned on metric `val_loss` which is not available. Available metrics are: loss,accuracy,lr\n",
      "2/2 [==============================] - 1s 309ms/step - loss: 0.6867 - accuracy: 0.6500 - lr: 0.0010\n",
      "Epoch 26/48\n",
      "2/2 [==============================] - ETA: 0s - loss: 0.6776 - accuracy: 0.5750WARNING:tensorflow:Early stopping conditioned on metric `val_loss` which is not available. Available metrics are: loss,accuracy\n",
      "WARNING:tensorflow:Learning rate reduction is conditioned on metric `val_loss` which is not available. Available metrics are: loss,accuracy,lr\n",
      "2/2 [==============================] - 2s 1s/step - loss: 0.6776 - accuracy: 0.5750 - lr: 0.0010\n",
      "Epoch 27/48\n",
      "2/2 [==============================] - ETA: 0s - loss: 0.6791 - accuracy: 0.5000WARNING:tensorflow:Early stopping conditioned on metric `val_loss` which is not available. Available metrics are: loss,accuracy\n",
      "WARNING:tensorflow:Learning rate reduction is conditioned on metric `val_loss` which is not available. Available metrics are: loss,accuracy,lr\n",
      "2/2 [==============================] - 2s 989ms/step - loss: 0.6791 - accuracy: 0.5000 - lr: 0.0010\n",
      "Epoch 28/48\n",
      "2/2 [==============================] - ETA: 0s - loss: 0.6571 - accuracy: 0.5750WARNING:tensorflow:Early stopping conditioned on metric `val_loss` which is not available. Available metrics are: loss,accuracy\n",
      "WARNING:tensorflow:Learning rate reduction is conditioned on metric `val_loss` which is not available. Available metrics are: loss,accuracy,lr\n",
      "2/2 [==============================] - 1s 287ms/step - loss: 0.6571 - accuracy: 0.5750 - lr: 0.0010\n",
      "Epoch 29/48\n",
      "2/2 [==============================] - ETA: 0s - loss: 0.6779 - accuracy: 0.5000WARNING:tensorflow:Early stopping conditioned on metric `val_loss` which is not available. Available metrics are: loss,accuracy\n",
      "WARNING:tensorflow:Learning rate reduction is conditioned on metric `val_loss` which is not available. Available metrics are: loss,accuracy,lr\n",
      "2/2 [==============================] - 1s 287ms/step - loss: 0.6779 - accuracy: 0.5000 - lr: 0.0010\n",
      "Epoch 30/48\n",
      "2/2 [==============================] - ETA: 0s - loss: 0.6744 - accuracy: 0.6250WARNING:tensorflow:Early stopping conditioned on metric `val_loss` which is not available. Available metrics are: loss,accuracy\n",
      "WARNING:tensorflow:Learning rate reduction is conditioned on metric `val_loss` which is not available. Available metrics are: loss,accuracy,lr\n",
      "2/2 [==============================] - 2s 1s/step - loss: 0.6744 - accuracy: 0.6250 - lr: 0.0010\n",
      "Epoch 31/48\n",
      "2/2 [==============================] - ETA: 0s - loss: 0.6597 - accuracy: 0.5750WARNING:tensorflow:Early stopping conditioned on metric `val_loss` which is not available. Available metrics are: loss,accuracy\n",
      "WARNING:tensorflow:Learning rate reduction is conditioned on metric `val_loss` which is not available. Available metrics are: loss,accuracy,lr\n",
      "2/2 [==============================] - 2s 1s/step - loss: 0.6597 - accuracy: 0.5750 - lr: 0.0010\n",
      "Epoch 32/48\n",
      "2/2 [==============================] - ETA: 0s - loss: 0.6594 - accuracy: 0.5250WARNING:tensorflow:Early stopping conditioned on metric `val_loss` which is not available. Available metrics are: loss,accuracy\n",
      "WARNING:tensorflow:Learning rate reduction is conditioned on metric `val_loss` which is not available. Available metrics are: loss,accuracy,lr\n",
      "2/2 [==============================] - 2s 502ms/step - loss: 0.6594 - accuracy: 0.5250 - lr: 0.0010\n",
      "Epoch 33/48\n",
      "2/2 [==============================] - ETA: 0s - loss: 0.6479 - accuracy: 0.5469WARNING:tensorflow:Early stopping conditioned on metric `val_loss` which is not available. Available metrics are: loss,accuracy\n",
      "WARNING:tensorflow:Learning rate reduction is conditioned on metric `val_loss` which is not available. Available metrics are: loss,accuracy,lr\n",
      "2/2 [==============================] - 2s 1s/step - loss: 0.6479 - accuracy: 0.5469 - lr: 0.0010\n",
      "Epoch 34/48\n",
      "2/2 [==============================] - ETA: 0s - loss: 0.6286 - accuracy: 0.7031WARNING:tensorflow:Early stopping conditioned on metric `val_loss` which is not available. Available metrics are: loss,accuracy\n",
      "WARNING:tensorflow:Learning rate reduction is conditioned on metric `val_loss` which is not available. Available metrics are: loss,accuracy,lr\n",
      "2/2 [==============================] - 3s 1s/step - loss: 0.6286 - accuracy: 0.7031 - lr: 0.0010\n",
      "Epoch 35/48\n",
      "2/2 [==============================] - ETA: 0s - loss: 0.6940 - accuracy: 0.6250WARNING:tensorflow:Early stopping conditioned on metric `val_loss` which is not available. Available metrics are: loss,accuracy\n",
      "WARNING:tensorflow:Learning rate reduction is conditioned on metric `val_loss` which is not available. Available metrics are: loss,accuracy,lr\n",
      "2/2 [==============================] - 2s 2s/step - loss: 0.6940 - accuracy: 0.6250 - lr: 0.0010\n",
      "Epoch 36/48\n",
      "2/2 [==============================] - ETA: 0s - loss: 0.6680 - accuracy: 0.5000WARNING:tensorflow:Early stopping conditioned on metric `val_loss` which is not available. Available metrics are: loss,accuracy\n",
      "WARNING:tensorflow:Learning rate reduction is conditioned on metric `val_loss` which is not available. Available metrics are: loss,accuracy,lr\n",
      "2/2 [==============================] - 2s 1s/step - loss: 0.6680 - accuracy: 0.5000 - lr: 0.0010\n",
      "Epoch 37/48\n",
      "2/2 [==============================] - ETA: 0s - loss: 0.6737 - accuracy: 0.6000WARNING:tensorflow:Early stopping conditioned on metric `val_loss` which is not available. Available metrics are: loss,accuracy\n",
      "WARNING:tensorflow:Learning rate reduction is conditioned on metric `val_loss` which is not available. Available metrics are: loss,accuracy,lr\n",
      "2/2 [==============================] - 1s 256ms/step - loss: 0.6737 - accuracy: 0.6000 - lr: 0.0010\n",
      "Epoch 38/48\n",
      "2/2 [==============================] - ETA: 0s - loss: 0.7027 - accuracy: 0.4500WARNING:tensorflow:Early stopping conditioned on metric `val_loss` which is not available. Available metrics are: loss,accuracy\n",
      "WARNING:tensorflow:Learning rate reduction is conditioned on metric `val_loss` which is not available. Available metrics are: loss,accuracy,lr\n",
      "2/2 [==============================] - 1s 274ms/step - loss: 0.7027 - accuracy: 0.4500 - lr: 0.0010\n",
      "Epoch 39/48\n",
      "2/2 [==============================] - ETA: 0s - loss: 0.6655 - accuracy: 0.6750WARNING:tensorflow:Early stopping conditioned on metric `val_loss` which is not available. Available metrics are: loss,accuracy\n",
      "WARNING:tensorflow:Learning rate reduction is conditioned on metric `val_loss` which is not available. Available metrics are: loss,accuracy,lr\n",
      "2/2 [==============================] - 2s 1s/step - loss: 0.6655 - accuracy: 0.6750 - lr: 0.0010\n",
      "Epoch 40/48\n",
      "2/2 [==============================] - ETA: 0s - loss: 0.6785 - accuracy: 0.5469WARNING:tensorflow:Early stopping conditioned on metric `val_loss` which is not available. Available metrics are: loss,accuracy\n",
      "WARNING:tensorflow:Learning rate reduction is conditioned on metric `val_loss` which is not available. Available metrics are: loss,accuracy,lr\n",
      "2/2 [==============================] - 2s 1s/step - loss: 0.6785 - accuracy: 0.5469 - lr: 0.0010\n",
      "Epoch 41/48\n",
      "2/2 [==============================] - ETA: 0s - loss: 0.6908 - accuracy: 0.4750WARNING:tensorflow:Early stopping conditioned on metric `val_loss` which is not available. Available metrics are: loss,accuracy\n",
      "WARNING:tensorflow:Learning rate reduction is conditioned on metric `val_loss` which is not available. Available metrics are: loss,accuracy,lr\n",
      "2/2 [==============================] - 2s 422ms/step - loss: 0.6908 - accuracy: 0.4750 - lr: 0.0010\n",
      "Epoch 42/48\n",
      "2/2 [==============================] - ETA: 0s - loss: 0.6722 - accuracy: 0.6500WARNING:tensorflow:Early stopping conditioned on metric `val_loss` which is not available. Available metrics are: loss,accuracy\n",
      "WARNING:tensorflow:Learning rate reduction is conditioned on metric `val_loss` which is not available. Available metrics are: loss,accuracy,lr\n",
      "2/2 [==============================] - 2s 1s/step - loss: 0.6722 - accuracy: 0.6500 - lr: 0.0010\n",
      "Epoch 43/48\n",
      "2/2 [==============================] - ETA: 0s - loss: 0.6768 - accuracy: 0.5781WARNING:tensorflow:Early stopping conditioned on metric `val_loss` which is not available. Available metrics are: loss,accuracy\n",
      "WARNING:tensorflow:Learning rate reduction is conditioned on metric `val_loss` which is not available. Available metrics are: loss,accuracy,lr\n",
      "2/2 [==============================] - 2s 906ms/step - loss: 0.6768 - accuracy: 0.5781 - lr: 0.0010\n",
      "Epoch 44/48\n",
      "2/2 [==============================] - ETA: 0s - loss: 0.6637 - accuracy: 0.6094WARNING:tensorflow:Early stopping conditioned on metric `val_loss` which is not available. Available metrics are: loss,accuracy\n",
      "WARNING:tensorflow:Learning rate reduction is conditioned on metric `val_loss` which is not available. Available metrics are: loss,accuracy,lr\n",
      "2/2 [==============================] - 2s 772ms/step - loss: 0.6637 - accuracy: 0.6094 - lr: 0.0010\n",
      "Epoch 45/48\n",
      "2/2 [==============================] - ETA: 0s - loss: 0.6676 - accuracy: 0.5156WARNING:tensorflow:Early stopping conditioned on metric `val_loss` which is not available. Available metrics are: loss,accuracy\n",
      "WARNING:tensorflow:Learning rate reduction is conditioned on metric `val_loss` which is not available. Available metrics are: loss,accuracy,lr\n",
      "2/2 [==============================] - 2s 806ms/step - loss: 0.6676 - accuracy: 0.5156 - lr: 0.0010\n",
      "Epoch 46/48\n",
      "2/2 [==============================] - ETA: 0s - loss: 0.6282 - accuracy: 0.5750WARNING:tensorflow:Early stopping conditioned on metric `val_loss` which is not available. Available metrics are: loss,accuracy\n",
      "WARNING:tensorflow:Learning rate reduction is conditioned on metric `val_loss` which is not available. Available metrics are: loss,accuracy,lr\n",
      "2/2 [==============================] - 1s 265ms/step - loss: 0.6282 - accuracy: 0.5750 - lr: 0.0010\n",
      "Epoch 47/48\n",
      "2/2 [==============================] - ETA: 0s - loss: 0.6819 - accuracy: 0.5938WARNING:tensorflow:Early stopping conditioned on metric `val_loss` which is not available. Available metrics are: loss,accuracy\n",
      "WARNING:tensorflow:Learning rate reduction is conditioned on metric `val_loss` which is not available. Available metrics are: loss,accuracy,lr\n",
      "2/2 [==============================] - 2s 954ms/step - loss: 0.6819 - accuracy: 0.5938 - lr: 0.0010\n",
      "Epoch 48/48\n",
      "2/2 [==============================] - ETA: 0s - loss: 0.6142 - accuracy: 0.7500WARNING:tensorflow:Early stopping conditioned on metric `val_loss` which is not available. Available metrics are: loss,accuracy\n",
      "WARNING:tensorflow:Learning rate reduction is conditioned on metric `val_loss` which is not available. Available metrics are: loss,accuracy,lr\n",
      "2/2 [==============================] - 1s 294ms/step - loss: 0.6142 - accuracy: 0.7500 - lr: 0.0010\n"
     ]
    }
   ],
   "source": [
    "#train the model\n",
    "history = classifier.fit_generator(\n",
    "        wave_train_generator1,\n",
    "        steps_per_epoch=wave_train_generator1.n//wave_train_generator1.batch_size,\n",
    "        epochs=48,\n",
    "        validation_data=wave_test_generator1,\n",
    "        validation_steps=wave_test_generator1.n//wave_test_generator1.batch_size,\n",
    "        callbacks=callbacks_list)"
   ]
  },
  {
   "cell_type": "markdown",
   "metadata": {},
   "source": [
    "### Plot image traing result"
   ]
  },
  {
   "cell_type": "code",
   "execution_count": 11,
   "metadata": {},
   "outputs": [
    {
     "data": {
      "image/png": "[encoded data removed]",
      "text/plain": [
       "<Figure size 1200x600 with 2 Axes>"
      ]
     },
     "metadata": {},
     "output_type": "display_data"
    }
   ],
   "source": [
    "plt.style.use('dark_background')\n",
    "plt.figure(figsize=(12,6))\n",
    "plt.subplot(1,2,1)\n",
    "plt.ylabel('Accuracy', fontsize=16)\n",
    "plt.plot(history.history['accuracy'], label='Training Accuracy', color = 'green')\n",
    "plt.legend(loc='lower right')\n",
    "\n",
    "plt.subplot(1,2,2)\n",
    "plt.ylabel('Loss', fontsize=16)\n",
    "plt.plot(history.history['loss'], label='Training Loss', color = 'red')\n",
    "plt.legend(loc='lower right')\n",
    "plt.show()"
   ]
  },
  {
   "cell_type": "markdown",
   "metadata": {},
   "source": [
    "# Save and load the model"
   ]
  },
  {
   "cell_type": "code",
   "execution_count": 14,
   "metadata": {},
   "outputs": [
    {
     "name": "stderr",
     "output_type": "stream",
     "text": [
      "c:\\Users\\Taqana\\AppData\\Local\\Programs\\Python\\Python311\\Lib\\site-packages\\keras\\src\\engine\\training.py:3000: UserWarning: You are saving your model as an HDF5 file via `model.save()`. This file format is considered legacy. We recommend using instead the native Keras format, e.g. `model.save('my_model.keras')`.\n",
      "  saving_api.save_model(\n"
     ]
    }
   ],
   "source": [
    "classifier.save('my_model.h5')  # Saves the model to a HDF5 file\n"
   ]
  },
  {
   "cell_type": "code",
   "execution_count": 15,
   "metadata": {},
   "outputs": [],
   "source": [
    "#lode the model\n",
    "classifier = load_model('my_model.h5')"
   ]
  },
  {
   "cell_type": "markdown",
   "metadata": {},
   "source": [
    "# use the model"
   ]
  },
  {
   "cell_type": "code",
   "execution_count": 19,
   "metadata": {},
   "outputs": [
    {
     "name": "stdout",
     "output_type": "stream",
     "text": [
      "1/1 [==============================] - 0s 215ms/step\n"
     ]
    }
   ],
   "source": [
    "# Load and preprocess a new image\n",
    "new_image_path ='drawings//wave//new_test//healthy//V01HO01.png'\n",
    "\n",
    "def preprocess_img(new_image_path):\n",
    "     new_image = Image.open(new_image_path).convert(\"RGB\")  # Ensure the image has 3 channels\n",
    "     new_image = new_image.resize((128, 128))  # Resize to the target size\n",
    "     new_image_array = np.array(new_image)\n",
    "     new_image_array = np.expand_dims(new_image_array, axis=0)\n",
    "     new_image_array = new_image_array.astype('float32') / 255.0  # Normalize the pixel values\n",
    "     return(new_image_array)\n",
    "# Make predictions\n",
    "prediction = classifier.predict(preprocess_img(new_image_path))"
   ]
  },
  {
   "cell_type": "code",
   "execution_count": 20,
   "metadata": {},
   "outputs": [
    {
     "data": {
      "text/plain": [
       "array([[0.58663833]], dtype=float32)"
      ]
     },
     "execution_count": 20,
     "metadata": {},
     "output_type": "execute_result"
    }
   ],
   "source": [
    "prediction"
   ]
  },
  {
   "cell_type": "code",
   "execution_count": 21,
   "metadata": {},
   "outputs": [
    {
     "name": "stdout",
     "output_type": "stream",
     "text": [
      "Class Names: {0: 'healthy', 1: 'parkinson'}\n"
     ]
    }
   ],
   "source": [
    "# Get the class indices from the data generator\n",
    "class_indices = wave_train_generator1.class_indices\n",
    "\n",
    "# Reverse the dictionary to get class names from indices\n",
    "class_names = {v: k for k, v in class_indices.items()}\n",
    "\n",
    "print(\"Class Names:\", class_names)\n"
   ]
  }
 ],
 "metadata": {
  "kernelspec": {
   "display_name": "Python 3",
   "language": "python",
   "name": "python3"
  },
  "language_info": {
   "codemirror_mode": {
    "name": "ipython",
    "version": 3
   },
   "file_extension": ".py",
   "mimetype": "text/x-python",
   "name": "python",
   "nbconvert_exporter": "python",
   "pygments_lexer": "ipython3",
   "version": "3.11.4"
  },
  "orig_nbformat": 4
 },
 "nbformat": 4,
 "nbformat_minor": 2
}
