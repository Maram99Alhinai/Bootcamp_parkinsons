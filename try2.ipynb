{
 "cells": [
  {
   "cell_type": "code",
   "execution_count": 10,
   "metadata": {},
   "outputs": [],
   "source": [
    "from transformers import ViTForImageClassification\n",
    "from PIL import Image\n",
    "import torch\n",
    "from torchvision import transforms\n",
    "\n",
    "model_name = 'google/vit-base-patch16-224'\n",
    "model = ViTForImageClassification.from_pretrained(model_name)\n",
    "\n",
    "# Load and preprocess an image\n",
    "image_path = \"drawings\\\\wave\\\\training\\\\healthy\\\\V01HO02.png\"\n",
    "image = Image.open(image_path)\n",
    "preprocess = transforms.Compose([\n",
    "    transforms.Resize((224, 224)),  # Resize to 224x224\n",
    "    transforms.ToTensor(),           # Convert to tensor\n",
    "    transforms.Normalize(            # Normalize pixel values\n",
    "        mean=[0.485, 0.456, 0.406],\n",
    "        std=[0.229, 0.224, 0.225]\n",
    "    ),\n",
    "])\n",
    "input_image = preprocess(image).unsqueeze(0)  # Add batch dimension\n",
    "\n",
    "# Pass the image through the model\n",
    "with torch.no_grad():\n",
    "    outputs = model(input_image)\n"
   ]
  },
  {
   "cell_type": "code",
   "execution_count": 9,
   "metadata": {},
   "outputs": [],
   "source": [
    "import os\n",
    "from torchvision import datasets, transforms\n",
    "from torch.utils.data import DataLoader\n",
    "\n",
    "# Paths to your dataset\n",
    "data_root = \"drawings\\\\wave\\\\training\"\n",
    "class_names = ['healthy', 'parkinson']  # Names of your classes\n",
    "\n",
    "# Define image transforms\n",
    "image_transforms = transforms.Compose([\n",
    "    transforms.Resize((224, 224)),  # Resize to 224x224\n",
    "    transforms.ToTensor(),           # Convert to tensor\n",
    "    transforms.Normalize(            # Normalize pixel values\n",
    "        mean=[0.485, 0.456, 0.406],\n",
    "        std=[0.229, 0.224, 0.225]\n",
    "    ),\n",
    "])\n",
    "\n",
    "# Create datasets\n",
    "train_dataset = datasets.ImageFolder(\n",
    "    os.path.join(data_root),  # Path to the 'train' folder containing class subfolders\n",
    "    transform=image_transforms\n",
    ")\n",
    "\n",
    "# Create data loaders\n",
    "batch_size = 32\n",
    "train_loader = DataLoader(train_dataset, batch_size=batch_size, shuffle=True)\n",
    "\n",
    "# Iterate over batches during training\n",
    "for batch_images, batch_labels in train_loader:\n",
    "    # Process batch_images and batch_labels, then feed them to your model\n",
    "    pass"
   ]
  },
  {
   "cell_type": "code",
   "execution_count": null,
   "metadata": {},
   "outputs": [],
   "source": []
  }
 ],
 "metadata": {
  "kernelspec": {
   "display_name": "Python 3",
   "language": "python",
   "name": "python3"
  },
  "language_info": {
   "codemirror_mode": {
    "name": "ipython",
    "version": 3
   },
   "file_extension": ".py",
   "mimetype": "text/x-python",
   "name": "python",
   "nbconvert_exporter": "python",
   "pygments_lexer": "ipython3",
   "version": "3.11.4"
  },
  "orig_nbformat": 4
 },
 "nbformat": 4,
 "nbformat_minor": 2
}
