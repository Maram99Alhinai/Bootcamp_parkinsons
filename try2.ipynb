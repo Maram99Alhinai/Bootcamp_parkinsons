{
 "cells": [
  {
   "cell_type": "code",
   "execution_count": 110,
   "metadata": {},
   "outputs": [],
   "source": [
    "import joblib\n",
    "from utils.process_images import *  # Import your image processing functions\n",
    "from utils.process_data import *  # Import your data processing functions"
   ]
  },
  {
   "cell_type": "code",
   "execution_count": 111,
   "metadata": {},
   "outputs": [],
   "source": [
    "# Step 1: Load the saved model\n",
    "model_filename = 'rf_model_wave.joblib'  # Replace with the correct filename\n",
    "loaded_model = joblib.load(model_filename)\n"
   ]
  },
  {
   "cell_type": "code",
   "execution_count": 117,
   "metadata": {},
   "outputs": [],
   "source": [
    "# Step 2: Process a new image to create the feature NumPy arraydrawings\n",
    "new_image_path = 'drawings\\\\wave\\\\training\\\\parkinson\\\\V04PO02.png'  \n",
    "\n",
    "# Define a function for processing a new image and making predictions\n",
    "def process_new_image(new_image_path):\n",
    "    new_image = read_and_thresh(new_image_path, resize=False)\n",
    "\n",
    "    # Compute the same interaction features as during training\n",
    "    mean_thickness = np.mean(stroke_thickness(closing(label_sort(new_image) > 0, disk(1))))\n",
    "    std_thickness = np.std(stroke_thickness(closing(label_sort(new_image) > 0, disk(1))))\n",
    "    num_pixels = sum_pixels(skeleton_drawing(new_image))\n",
    "    num_ep = number_of_end_points(new_image, k_nn)\n",
    "    num_inters = number_of_intersection_points(new_image, k_nn)\n",
    "\n",
    "    # Create a feature array matching the training data\n",
    "    new_features = np.array([\n",
    "        mean_thickness, std_thickness, num_pixels, num_ep, num_inters,\n",
    "        mean_thickness * std_thickness, mean_thickness * num_pixels, mean_thickness * num_ep, mean_thickness * num_inters,\n",
    "        std_thickness * num_pixels, std_thickness * num_ep, std_thickness * num_inters,\n",
    "        num_pixels * num_ep, num_pixels * num_inters, num_ep * num_inters\n",
    "    ]).reshape(1, -1)\n",
    "\n",
    "    return new_features\n",
    "new_features = process_new_image(new_image_path)"
   ]
  },
  {
   "cell_type": "code",
   "execution_count": 118,
   "metadata": {},
   "outputs": [
    {
     "name": "stdout",
     "output_type": "stream",
     "text": [
      "parkinson\n"
     ]
    },
    {
     "name": "stderr",
     "output_type": "stream",
     "text": [
      "c:\\Users\\Taqana\\AppData\\Local\\Programs\\Python\\Python311\\Lib\\site-packages\\sklearn\\base.py:464: UserWarning: X does not have valid feature names, but RandomForestClassifier was fitted with feature names\n",
      "  warnings.warn(\n"
     ]
    }
   ],
   "source": [
    "# Step 3: Use the loaded model to make predictions\n",
    "predicted_probabilities = loaded_model.predict_proba(new_features)\n",
    "\n",
    "if predicted_probabilities[0][1] < 0.87:\n",
    "    print('healthy')\n",
    "else :\n",
    "    print('parkinson')\n"
   ]
  }
 ],
 "metadata": {
  "kernelspec": {
   "display_name": "Python 3",
   "language": "python",
   "name": "python3"
  },
  "language_info": {
   "codemirror_mode": {
    "name": "ipython",
    "version": 3
   },
   "file_extension": ".py",
   "mimetype": "text/x-python",
   "name": "python",
   "nbconvert_exporter": "python",
   "pygments_lexer": "ipython3",
   "version": "3.11.4"
  },
  "orig_nbformat": 4
 },
 "nbformat": 4,
 "nbformat_minor": 2
}
